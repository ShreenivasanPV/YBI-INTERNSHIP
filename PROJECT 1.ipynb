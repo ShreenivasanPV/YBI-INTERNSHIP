{
  "cells": [
    {
      "cell_type": "markdown",
      "metadata": {
        "id": "4TuAv39BW3ad"
      },
      "source": [
        "### **House Price Prediction with Linear Regression**"
      ]
    },
    {
      "cell_type": "markdown",
      "metadata": {
        "id": "xQcrmc9AW3af"
      },
      "source": [
        "---"
      ]
    },
    {
      "cell_type": "markdown",
      "metadata": {
        "id": "HPc2xNdxW3af"
      },
      "source": [
        "### **Objective**  \n",
        "The objective of this project is to build a Linear Regression model to predict house prices based on various features. This regression problem involves data preprocessing, model training, evaluation, and prediction."
      ]
    },
    {
      "cell_type": "markdown",
      "metadata": {
        "id": "LkWZsC6rW3af"
      },
      "source": [
        "---"
      ]
    },
    {
      "cell_type": "markdown",
      "metadata": {
        "id": "MkKauyLFW3af"
      },
      "source": [
        "### **Data Source**  \n",
        "The dataset for this project is sourced from [GitHub](https://raw.githubusercontent.com/ywchiu/riii/master/data/house-prices.csv)."
      ]
    },
    {
      "cell_type": "markdown",
      "metadata": {
        "id": "qQYbHmmcW3af"
      },
      "source": [
        "---"
      ]
    },
    {
      "cell_type": "markdown",
      "metadata": {
        "id": "yuv0yNNJW3ag"
      },
      "source": [
        "### **Import Library**"
      ]
    },
    {
      "cell_type": "code",
      "execution_count": null,
      "metadata": {
        "id": "7stKNkmvW3ag"
      },
      "outputs": [],
      "source": [
        "import pandas as pd\n",
        "import numpy as np\n",
        "import matplotlib.pyplot as plt\n",
        "import seaborn as sns\n",
        "from sklearn.model_selection import train_test_split\n",
        "from sklearn.linear_model import LinearRegression\n",
        "from sklearn.metrics import mean_squared_error, r2_score\n",
        "from sklearn.preprocessing import StandardScaler"
      ]
    },
    {
      "cell_type": "markdown",
      "metadata": {
        "id": "5oTxrbRpW3ag"
      },
      "source": [
        "---"
      ]
    },
    {
      "cell_type": "markdown",
      "metadata": {
        "id": "W3dkx-pCW3ag"
      },
      "source": [
        "### **Import Data**"
      ]
    },
    {
      "cell_type": "code",
      "execution_count": null,
      "metadata": {
        "id": "uG_sJjnxW3ag"
      },
      "outputs": [],
      "source": [
        "# Load the dataset\n",
        "url = 'https://raw.githubusercontent.com/ywchiu/riii/master/data/house-prices.csv'\n",
        "data = pd.read_csv(url)"
      ]
    },
    {
      "cell_type": "markdown",
      "metadata": {
        "id": "jHX0kd0kW3ah"
      },
      "source": [
        "---"
      ]
    },
    {
      "cell_type": "markdown",
      "metadata": {
        "id": "qlaQqbl3W3ah"
      },
      "source": [
        "### **Describe Data**"
      ]
    },
    {
      "cell_type": "code",
      "execution_count": null,
      "metadata": {
        "id": "DRvni3g_W3ah"
      },
      "outputs": [],
      "source": [
        "# Clean column names to remove extra spaces and convert to lowercase\n",
        "data.columns = data.columns.str.strip().str.lower()\n",
        "\n",
        "# Display first few rows\n",
        "print(\"First few rows of the dataset:\")\n",
        "print(data.head())\n",
        "\n",
        "# Dataset information\n",
        "print(\"\\nDataset Info:\")\n",
        "data.info()\n",
        "\n",
        "# Summary statistics\n",
        "print(\"\\nSummary statistics for numerical features:\")\n",
        "print(data.describe())"
      ]
    },
    {
      "cell_type": "markdown",
      "metadata": {
        "id": "aizoWJZcW3ah"
      },
      "source": [
        "---"
      ]
    },
    {
      "cell_type": "markdown",
      "metadata": {
        "id": "QhBOMbXeW3ah"
      },
      "source": [
        "### **Data Visualization**"
      ]
    },
    {
      "cell_type": "code",
      "execution_count": null,
      "metadata": {
        "id": "qOYLvAlFW3ah"
      },
      "outputs": [],
      "source": [
        "# Visualize the distribution of the target variable (assumed to be 'price')\n",
        "sns.histplot(data['price'], kde=True, bins=30)\n",
        "plt.title('Distribution of House Prices')\n",
        "plt.show()\n",
        "\n",
        "# Scatter plot for a feature and target variable\n",
        "sns.scatterplot(x='grlivarea', y='price', data=data)\n",
        "plt.title('Living Area vs House Price')\n",
        "plt.show()"
      ]
    },
    {
      "cell_type": "markdown",
      "metadata": {
        "id": "3WJn7_TVW3ah"
      },
      "source": [
        "---"
      ]
    },
    {
      "cell_type": "markdown",
      "metadata": {
        "id": "JT8jOOipW3ah"
      },
      "source": [
        "### **Data Preprocessing**"
      ]
    },
    {
      "cell_type": "code",
      "execution_count": null,
      "metadata": {
        "id": "6myV0_ZxW3ah"
      },
      "outputs": [],
      "source": [
        "# Handle missing values\n",
        "data.fillna(data.mean(), inplace=True)\n",
        "\n",
        "# Encode categorical variables if necessary\n",
        "data = pd.get_dummies(data)\n",
        "\n",
        "# Feature scaling\n",
        "scaler = StandardScaler()\n",
        "data_scaled = scaler.fit_transform(data)"
      ]
    },
    {
      "cell_type": "markdown",
      "metadata": {
        "id": "WxXF-UZMW3ah"
      },
      "source": [
        "---"
      ]
    },
    {
      "cell_type": "markdown",
      "metadata": {
        "id": "sqWpD3BjW3ah"
      },
      "source": [
        "### **Define Target Variable (y) and Feature Variables (X)**"
      ]
    },
    {
      "cell_type": "code",
      "execution_count": null,
      "metadata": {
        "id": "dRb95yjRW3ai"
      },
      "outputs": [],
      "source": [
        "y = data['price']\n",
        "X = data.drop(['price'], axis=1)"
      ]
    },
    {
      "cell_type": "markdown",
      "metadata": {
        "id": "xbf85REHW3ai"
      },
      "source": [
        "---"
      ]
    },
    {
      "cell_type": "markdown",
      "metadata": {
        "id": "coK7Lc8WW3ai"
      },
      "source": [
        "### **Train Test Split**"
      ]
    },
    {
      "cell_type": "code",
      "execution_count": null,
      "metadata": {
        "id": "xp7j088DW3ai"
      },
      "outputs": [],
      "source": [
        "X_train, X_test, y_train, y_test = train_test_split(X, y, test_size=0.2, random_state=42)"
      ]
    },
    {
      "cell_type": "markdown",
      "metadata": {
        "id": "eYWBjNFiW3ai"
      },
      "source": [
        "---"
      ]
    },
    {
      "cell_type": "markdown",
      "metadata": {
        "id": "LiQmtOtSW3ai"
      },
      "source": [
        "### **Modeling**"
      ]
    },
    {
      "cell_type": "code",
      "execution_count": null,
      "metadata": {
        "id": "5bPk-9ORW3ai"
      },
      "outputs": [],
      "source": [
        "model = LinearRegression()\n",
        "model.fit(X_train, y_train)"
      ]
    },
    {
      "cell_type": "markdown",
      "metadata": {
        "id": "ZcDJLmCJW3ai"
      },
      "source": [
        "---"
      ]
    },
    {
      "cell_type": "markdown",
      "metadata": {
        "id": "RKFGzEjLW3ai"
      },
      "source": [
        "### **Model Evaluation**"
      ]
    },
    {
      "cell_type": "code",
      "execution_count": null,
      "metadata": {
        "id": "kgQ0mVp4W3ai"
      },
      "outputs": [],
      "source": [
        "# Predict on the test set\n",
        "y_pred = model.predict(X_test)\n",
        "\n",
        "# Evaluate the model\n",
        "mse = mean_squared_error(y_test, y_pred)\n",
        "r2 = r2_score(y_test, y_pred)\n",
        "\n",
        "print(f\"Mean Squared Error: {mse}\")\n",
        "print(f\"R-squared: {r2}\")"
      ]
    },
    {
      "cell_type": "markdown",
      "metadata": {
        "id": "hRxFFI3sW3aj"
      },
      "source": [
        "---"
      ]
    },
    {
      "cell_type": "markdown",
      "metadata": {
        "id": "24b8CE3xW3aj"
      },
      "source": [
        "### **Prediction**"
      ]
    },
    {
      "cell_type": "code",
      "execution_count": null,
      "metadata": {
        "id": "aciSWb_BW3aj"
      },
      "outputs": [],
      "source": [
        "# Example prediction\n",
        "new_data = np.array([[1500, 3, 2]])  # Adjust based on features\n",
        "predicted_price = model.predict(new_data)\n",
        "print(f\"Predicted House Price: ${predicted_price[0]:,.2f}\")"
      ]
    },
    {
      "cell_type": "markdown",
      "source": [
        "---"
      ],
      "metadata": {
        "id": "of2pR6wpYyLs"
      }
    },
    {
      "cell_type": "markdown",
      "source": [
        " ### **Explanation**"
      ],
      "metadata": {
        "id": "6QAI_r8PXjWG"
      }
    },
    {
      "cell_type": "markdown",
      "source": [
        "1.Objective: Predict house prices using Linear Regression.\n",
        "\n",
        "2.Data Source: The dataset is publicly available on GitHub.\n",
        "\n",
        "3.Preprocessing: Missing values are handled, categorical variables are encoded, and features are scaled.\n",
        "\n",
        "4.Visualization: Key relationships and distributions are explored for better understanding.\n",
        "\n",
        "5.Model Training: Linear Regression is used to model the relationship between features and house prices.\n",
        "\n",
        "6.Evaluation: The model's performance is evaluated using metrics such as Mean Squared Error, RMSE, and R-squared.\n",
        "\n",
        "7.Prediction: The model predicts prices for new data, showcasing its utility for real-world scenarios."
      ],
      "metadata": {
        "id": "ni_LNiQsXzKH"
      }
    }
  ],
  "metadata": {
    "kernelspec": {
      "display_name": "Python 3",
      "language": "python",
      "name": "python3"
    },
    "language_info": {
      "codemirror_mode": {
        "name": "ipython",
        "version": 3
      },
      "file_extension": ".py",
      "mimetype": "text/x-python",
      "name": "python",
      "nbconvert_exporter": "python",
      "pygments_lexer": "ipython3",
      "version": "3.8.5"
    },
    "colab": {
      "provenance": []
    }
  },
  "nbformat": 4,
  "nbformat_minor": 0
}